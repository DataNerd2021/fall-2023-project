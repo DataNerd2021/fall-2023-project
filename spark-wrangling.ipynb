{
 "cells": [
  {
   "cell_type": "code",
   "execution_count": 1,
   "metadata": {},
   "outputs": [],
   "source": [
    "from google.cloud import bigquery\n",
    "from google.oauth2 import service_account\n",
    "\n",
    "import findspark"
   ]
  },
  {
   "cell_type": "code",
   "execution_count": 2,
   "metadata": {},
   "outputs": [],
   "source": [
    "credentials = service_account.Credentials.from_service_account_file(r\"C:\\Users\\Chase\\Downloads\\used-car-summer-2023-project-b4807c4731d7.json\")\n",
    "\n",
    "bigquery_client = bigquery.Client(credentials=credentials, project='used-car-summer-2023-project')\n",
    "\n",
    "\n",
    "query = bigquery_client.query('SELECT * FROM `training_data.raw_listings`').result()\n",
    "\n",
    "staged_listings = query.to_dataframe()"
   ]
  },
  {
   "cell_type": "code",
   "execution_count": 3,
   "metadata": {},
   "outputs": [
    {
     "data": {
      "text/plain": [
       "'C:\\\\Users\\\\Chase\\\\OneDrive\\\\Documents\\\\spark-3.2.2-bin-hadoop3.2'"
      ]
     },
     "execution_count": 3,
     "metadata": {},
     "output_type": "execute_result"
    }
   ],
   "source": [
    "findspark.init()\n",
    "findspark.find()"
   ]
  },
  {
   "cell_type": "code",
   "execution_count": 4,
   "metadata": {},
   "outputs": [
    {
     "data": {
      "text/html": [
       "\n",
       "            <div>\n",
       "                <p><b>SparkSession - in-memory</b></p>\n",
       "                \n",
       "        <div>\n",
       "            <p><b>SparkContext</b></p>\n",
       "\n",
       "            <p><a href=\"http://host.docker.internal:4040\">Spark UI</a></p>\n",
       "\n",
       "            <dl>\n",
       "              <dt>Version</dt>\n",
       "                <dd><code>v3.2.2</code></dd>\n",
       "              <dt>Master</dt>\n",
       "                <dd><code>local[4]</code></dd>\n",
       "              <dt>AppName</dt>\n",
       "                <dd><code>UsedCarDataWranglingApp</code></dd>\n",
       "            </dl>\n",
       "        </div>\n",
       "        \n",
       "            </div>\n",
       "        "
      ],
      "text/plain": [
       "<pyspark.sql.session.SparkSession at 0x2a90d13a100>"
      ]
     },
     "execution_count": 4,
     "metadata": {},
     "output_type": "execute_result"
    }
   ],
   "source": [
    "from pyspark.sql import SparkSession, Row\n",
    "from pyspark.sql.types import *\n",
    "from pyspark.sql.functions import *\n",
    "\n",
    "spark = (\n",
    "            SparkSession\n",
    "            .builder\n",
    "            .appName(\"UsedCarDataWranglingApp\")\n",
    "            .master(\"local[4]\")\n",
    "            .config(\"spark.dynamicAllocation.enabled\", \"false\")\n",
    "            .config(\"spark.sql.adaptive.enabled\", \"false\")\n",
    "            .getOrCreate()\n",
    ")\n",
    "\n",
    "sc = spark.sparkContext\n",
    "\n",
    "spark"
   ]
  },
  {
   "cell_type": "code",
   "execution_count": 5,
   "metadata": {},
   "outputs": [
    {
     "data": {
      "text/html": [
       "<style> pre { white-space: pre !important; }</style>"
      ],
      "text/plain": [
       "<IPython.core.display.HTML object>"
      ]
     },
     "metadata": {},
     "output_type": "display_data"
    }
   ],
   "source": [
    "from IPython.display import *\n",
    "display(HTML(\"<style> pre { white-space: pre !important; }</style>\"))"
   ]
  },
  {
   "cell_type": "markdown",
   "metadata": {},
   "source": [
    "### Step 1a: View Current Data"
   ]
  },
  {
   "cell_type": "code",
   "execution_count": 6,
   "metadata": {},
   "outputs": [],
   "source": [
    "staged_listings = (\n",
    "                    spark\n",
    "                    .createDataFrame\n",
    "                    (staged_listings,\n",
    "                     \"page_num: integer, vin: string, header: string, trim: string, price: string, mileage: string, location: string, colors: string, condition: string\")\n",
    ")\n",
    "\n",
    "#staged_listings.show()"
   ]
  },
  {
   "cell_type": "markdown",
   "metadata": {},
   "source": [
    "### Step 1b: Show Current Schema"
   ]
  },
  {
   "cell_type": "code",
   "execution_count": 7,
   "metadata": {},
   "outputs": [
    {
     "name": "stdout",
     "output_type": "stream",
     "text": [
      "root\n",
      " |-- page_num: integer (nullable = true)\n",
      " |-- vin: string (nullable = true)\n",
      " |-- header: string (nullable = true)\n",
      " |-- trim: string (nullable = true)\n",
      " |-- price: string (nullable = true)\n",
      " |-- mileage: string (nullable = true)\n",
      " |-- location: string (nullable = true)\n",
      " |-- colors: string (nullable = true)\n",
      " |-- condition: string (nullable = true)\n",
      "\n"
     ]
    }
   ],
   "source": [
    "staged_listings.printSchema()"
   ]
  },
  {
   "cell_type": "markdown",
   "metadata": {},
   "source": [
    "### Step 2: Drop Duplicate Values"
   ]
  },
  {
   "cell_type": "code",
   "execution_count": 8,
   "metadata": {},
   "outputs": [],
   "source": [
    "staged_listings = (\n",
    "                    staged_listings\n",
    "                    .dropDuplicates(subset=['vin', 'header', 'mileage'])\n",
    ")"
   ]
  },
  {
   "cell_type": "markdown",
   "metadata": {},
   "source": [
    "### Step 3: Remove Unnecessary Columns"
   ]
  },
  {
   "cell_type": "code",
   "execution_count": 9,
   "metadata": {},
   "outputs": [
    {
     "name": "stdout",
     "output_type": "stream",
     "text": [
      "root\n",
      " |-- header: string (nullable = true)\n",
      " |-- trim: string (nullable = true)\n",
      " |-- price: string (nullable = true)\n",
      " |-- mileage: string (nullable = true)\n",
      " |-- location: string (nullable = true)\n",
      " |-- colors: string (nullable = true)\n",
      " |-- condition: string (nullable = true)\n",
      "\n"
     ]
    }
   ],
   "source": [
    "staged_listings = (\n",
    "                    staged_listings\n",
    "                    .drop('page_num', 'vin')\n",
    ")\n",
    "\n",
    "staged_listings.printSchema()"
   ]
  },
  {
   "cell_type": "markdown",
   "metadata": {},
   "source": [
    "### Step 4: Remove All Listings with Troublesome Headers"
   ]
  },
  {
   "cell_type": "code",
   "execution_count": 10,
   "metadata": {},
   "outputs": [],
   "source": [
    "staged_listings = (\n",
    "                    staged_listings\n",
    "                    .filter(~col('header').contains('Land'))\n",
    "                    .filter(~col('header').contains('Alfa'))\n",
    "                    .filter(~col('header').contains('Aston'))\n",
    ")"
   ]
  },
  {
   "cell_type": "markdown",
   "metadata": {},
   "source": [
    "### Step 5: Split \"header\" Column into \"year\", \"make\", and \"model\" Columns"
   ]
  },
  {
   "cell_type": "code",
   "execution_count": 11,
   "metadata": {},
   "outputs": [],
   "source": [
    "\n",
    "staged_listings = (\n",
    "                    staged_listings\n",
    "                    .withColumn('year', split(staged_listings['header'], ' ').getItem(0))\n",
    "                    .withColumn('make', split(staged_listings['header'], ' ').getItem(1))\n",
    "                    .withColumn('model', split(staged_listings['header'], ' ').getItem(2))\n",
    ")\n",
    "\n",
    "staged_listings = (\n",
    "                    staged_listings\n",
    "                    .withColumn('year', regexp_replace('year', 'Sponsored', ''))\n",
    ")"
   ]
  },
  {
   "cell_type": "markdown",
   "metadata": {},
   "source": [
    "### Step 6: Clean \"price\" Column"
   ]
  },
  {
   "cell_type": "code",
   "execution_count": 12,
   "metadata": {},
   "outputs": [],
   "source": [
    "staged_listings = (\n",
    "                    staged_listings\n",
    "                    .filter(~col('price').contains('Not'))\n",
    ")\n",
    "\n",
    "staged_listings = (\n",
    "                    staged_listings\n",
    "                    .withColumn('price', split(staged_listings['price'], '\\$').getItem(1))\n",
    "                    .withColumn('price', regexp_replace('price', '[^a-zA-Z0-9]', ''))\n",
    "                    .withColumn('price', col('price').cast('integer'))\n",
    ")"
   ]
  },
  {
   "cell_type": "markdown",
   "metadata": {},
   "source": [
    "### Step 7: Clean \"trim\" Column"
   ]
  },
  {
   "cell_type": "code",
   "execution_count": 13,
   "metadata": {},
   "outputs": [],
   "source": [
    "staged_listings = (\n",
    "                    staged_listings\n",
    "                    .withColumn('trim', regexp_replace('trim', 'AWD', ''))\n",
    "                    .withColumn('trim', regexp_replace('trim', 'FWD', ''))\n",
    "                    .withColumn('trim', regexp_replace('trim', 'RWD', ''))\n",
    "                    .withColumn('trim', regexp_replace('trim', '4WD', ''))\n",
    "                    .withColumn('trim', regexp_replace('trim', '2WD', ''))\n",
    ")"
   ]
  },
  {
   "cell_type": "markdown",
   "metadata": {},
   "source": [
    "### Step 8: Clean \"mileage\" Column"
   ]
  },
  {
   "cell_type": "code",
   "execution_count": 14,
   "metadata": {},
   "outputs": [],
   "source": [
    "staged_listings = (\n",
    "                    staged_listings\n",
    "                    .withColumn('mileage', regexp_replace('mileage', ' miles', ''))\n",
    "                    .withColumn('mileage', regexp_replace('mileage', '[^a-zA-Z0-9]', ''))\n",
    "                    .withColumn('mileage', col('mileage').cast('integer'))\n",
    ")"
   ]
  },
  {
   "cell_type": "markdown",
   "metadata": {},
   "source": [
    "### Step 9: Split \"colors\" Column into \"exterior_color\" and \"interior_color\" Columns"
   ]
  },
  {
   "cell_type": "code",
   "execution_count": 15,
   "metadata": {},
   "outputs": [],
   "source": [
    "staged_listings = (\n",
    "                    staged_listings\n",
    "                    .withColumn('exterior_color', split(staged_listings['colors'], ', ').getItem(0))\n",
    "                    .withColumn('interior_color', split(staged_listings['colors'], ', ').getItem(1))\n",
    ")\n",
    "\n",
    "staged_listings = (\n",
    "                    staged_listings\n",
    "                    .withColumn('exterior_color', rtrim(staged_listings['exterior_color']))\n",
    "                    .withColumn('interior_color', ltrim(staged_listings['interior_color']))\n",
    "                    .withColumn('exterior_color', regexp_replace('exterior_color', ' exterior', ''))\n",
    "                    .withColumn('interior_color', regexp_replace('interior_color', ' interior', ''))\n",
    ")"
   ]
  },
  {
   "cell_type": "markdown",
   "metadata": {},
   "source": [
    "### Step 10: Split \"condition\" Column into \"num_accidents\", \"num_owners\", and \"usage_type\""
   ]
  },
  {
   "cell_type": "code",
   "execution_count": 16,
   "metadata": {},
   "outputs": [],
   "source": [
    "staged_listings = (\n",
    "                    staged_listings\n",
    "                    .withColumn('num_accidents', split('condition', ', ').getItem(0))\n",
    "                    .withColumn('num_owners', split('condition', ', ').getItem(1))\n",
    "                    .withColumn('usage_type', split('condition', ', ').getItem(2))\n",
    ")\n",
    "\n",
    "staged_listings = (\n",
    "                    staged_listings\n",
    "                    .withColumn('num_accidents', regexp_replace('num_accidents', ' accidents', ''))\n",
    "                    .withColumn('num_accidents', regexp_replace('num_accidents', ' accident', ''))\n",
    "                    .withColumn('num_accidents', regexp_replace('num_accidents', 'No accidents reported', '0'))\n",
    "                    .withColumn('num_accidents', regexp_replace('num_accidents', 'No reported', '0'))\n",
    "                    .withColumn('num_accidents', regexp_replace('num_accidents', ' reported', ''))\n",
    "                    .withColumn('num_owners', regexp_replace('num_owners', ' Owners', ''))\n",
    "                    .withColumn('num_owners', regexp_replace('num_owners', ' Owner', ''))\n",
    "                    .withColumn('usage_type', regexp_replace('usage_type', ' use', ''))\n",
    ")\n",
    "\n",
    "staged_listings = (\n",
    "                    staged_listings\n",
    "                    .filter(~col('num_accidents').contains('F'))\n",
    "                    .filter(~col('num_owners').contains('P'))\n",
    ")\n",
    "\n",
    "staged_listings = (\n",
    "                    staged_listings\n",
    "                    .withColumn('num_accidents', col('num_accidents').cast('integer'))\n",
    "                    .withColumn('num_owners', col('num_owners').cast('integer'))\n",
    ")"
   ]
  },
  {
   "cell_type": "markdown",
   "metadata": {},
   "source": [
    "### Step 11: Split \"location\" Column into \"city\" and \"state\" Columns"
   ]
  },
  {
   "cell_type": "code",
   "execution_count": 17,
   "metadata": {},
   "outputs": [],
   "source": [
    "staged_listings = (\n",
    "                    staged_listings\n",
    "                    .withColumn('location', regexp_replace('location', '[0-9]', ''))\n",
    "                    .withColumn('location', regexp_replace('location', ', mi - ', ''))\n",
    "                    .withColumn('location', regexp_replace('location', ' mi - ', ''))\n",
    "                    .withColumn('location', regexp_replace('location', 'Online RetailerDelivery Available to ', 'Online'))\n",
    ")\n",
    "\n",
    "staged_listings = (\n",
    "                    staged_listings\n",
    "                    .withColumn('city', split(staged_listings['location'], ', ').getItem(0))\n",
    "                    .withColumn('state', split(staged_listings['location'], ', ').getItem(1))\n",
    ")"
   ]
  },
  {
   "cell_type": "markdown",
   "metadata": {},
   "source": [
    "### Step 12: Remove Surplus Columns and Reorder Columns"
   ]
  },
  {
   "cell_type": "code",
   "execution_count": 18,
   "metadata": {},
   "outputs": [],
   "source": [
    "staged_listings = (\n",
    "                    staged_listings\n",
    "                    .drop('header', 'location', 'colors', 'condition')\n",
    ")\n",
    "\n",
    "staged_listings = (\n",
    "                    staged_listings\n",
    "                    .select(\n",
    "                        \"price\",\n",
    "                        \"year\",\n",
    "                        \"make\",\n",
    "                        \"model\",\n",
    "                        \"trim\",\n",
    "                        \"mileage\",\n",
    "                        \"exterior_color\",\n",
    "                        \"interior_color\",\n",
    "                        \"num_accidents\",\n",
    "                        \"num_owners\",\n",
    "                        \"usage_type\",\n",
    "                        \"city\",\n",
    "                        \"state\"\n",
    "                    )\n",
    ")"
   ]
  },
  {
   "cell_type": "markdown",
   "metadata": {},
   "source": [
    "### Step 13: Export to BigQuery Table"
   ]
  },
  {
   "cell_type": "code",
   "execution_count": 19,
   "metadata": {},
   "outputs": [
    {
     "name": "stderr",
     "output_type": "stream",
     "text": [
      "100%|██████████| 1/1 [00:00<00:00, 1000.07it/s]\n"
     ]
    }
   ],
   "source": [
    "import pandas_gbq\n",
    "wrangled_listings = staged_listings.toPandas()\n",
    "pandas_gbq.to_gbq(wrangled_listings, 'used-car-summer-2023-project.training_data.wrangled_training_data', project_id='used-car-summer-2023-project', if_exists='replace')"
   ]
  }
 ],
 "metadata": {
  "kernelspec": {
   "display_name": "Python 3 (ipykernel)",
   "language": "python",
   "name": "python3"
  },
  "language_info": {
   "codemirror_mode": {
    "name": "ipython",
    "version": 3
   },
   "file_extension": ".py",
   "mimetype": "text/x-python",
   "name": "python",
   "nbconvert_exporter": "python",
   "pygments_lexer": "ipython3",
   "version": "3.9.12"
  }
 },
 "nbformat": 4,
 "nbformat_minor": 4
}
