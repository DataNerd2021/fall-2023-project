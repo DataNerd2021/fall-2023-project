{
 "cells": [
  {
   "cell_type": "code",
   "execution_count": 137,
   "metadata": {},
   "outputs": [
    {
     "name": "stderr",
     "output_type": "stream",
     "text": [
      "2023-11-08 13:50:09,508 - INFO - icrawler.crawler - start crawling...\n",
      "2023-11-08 13:50:09,509 - INFO - icrawler.crawler - starting 1 feeder threads...\n",
      "2023-11-08 13:50:09,511 - INFO - feeder - thread feeder-001 exit\n",
      "2023-11-08 13:50:09,514 - INFO - icrawler.crawler - starting 1 parser threads...\n",
      "2023-11-08 13:50:09,516 - INFO - icrawler.crawler - starting 1 downloader threads...\n"
     ]
    },
    {
     "name": "stderr",
     "output_type": "stream",
     "text": [
      "2023-11-08 13:50:10,306 - INFO - parser - parsing result page https://www.google.com/search?q=2011+lincoln+towncar&ijn=0&start=0&tbs=&tbm=isch\n",
      "2023-11-08 13:50:10,579 - INFO - downloader - image #1\thttps://www.cars.com/i/large/in/v2/stock_photos/e0c07293-307f-48fb-9219-04a05f88077b/e1453be1-0e28-4dce-85c6-5649a99ee397.png\n",
      "2023-11-08 13:50:10,747 - INFO - downloader - image #2\thttps://hips.hearstapps.com/hmg-prod/amv-prod-cad-assets/images/10q2/352890/2008-lincoln-town-car-photo-352914-s-986x603.jpg\n",
      "2023-11-08 13:50:10,919 - INFO - downloader - image #3\thttps://i.ytimg.com/vi/8rhogS5Dd0Y/maxresdefault.jpg\n",
      "2023-11-08 13:50:11,130 - INFO - downloader - downloaded images reach max num, thread downloader-001 is ready to exit\n",
      "2023-11-08 13:50:11,130 - INFO - downloader - thread downloader-001 exit\n",
      "2023-11-08 13:50:11,544 - INFO - icrawler.crawler - Crawling task done!\n",
      "2023-11-08 13:50:11,545 - INFO - icrawler.crawler - start crawling...\n",
      "2023-11-08 13:50:11,545 - INFO - icrawler.crawler - starting 1 feeder threads...\n",
      "2023-11-08 13:50:11,547 - INFO - feeder - thread feeder-001 exit\n",
      "2023-11-08 13:50:11,549 - INFO - icrawler.crawler - starting 1 parser threads...\n",
      "2023-11-08 13:50:11,553 - INFO - icrawler.crawler - starting 1 downloader threads...\n",
      "2023-11-08 13:50:11,936 - INFO - parser - downloaded image reached max num, thread parser-001 is ready to exit\n",
      "2023-11-08 13:50:11,937 - INFO - parser - thread parser-001 exit\n",
      "2023-11-08 13:50:12,545 - INFO - parser - parsing result page https://www.google.com/search?q=2012+lincoln+towncar&ijn=0&start=0&tbs=&tbm=isch\n",
      "Exception in thread parser-001:\n",
      "Traceback (most recent call last):\n",
      "  File \"c:\\Users\\Chase\\AppData\\Local\\Programs\\Python\\Python39\\lib\\threading.py\", line 973, in _bootstrap_inner\n",
      "    self.run()\n",
      "  File \"c:\\Users\\Chase\\AppData\\Local\\Programs\\Python\\Python39\\lib\\threading.py\", line 910, in run\n",
      "    self._target(*self._args, **self._kwargs)\n",
      "  File \"c:\\Users\\Chase\\AppData\\Local\\Programs\\Python\\Python39\\lib\\site-packages\\icrawler\\parser.py\", line 94, in worker_exec\n",
      "    for task in self.parse(response, **kwargs):\n",
      "TypeError: 'NoneType' object is not iterable\n",
      "2023-11-08 13:50:16,571 - INFO - downloader - no more download task for thread downloader-001\n",
      "2023-11-08 13:50:16,574 - INFO - downloader - thread downloader-001 exit\n",
      "2023-11-08 13:50:16,587 - INFO - icrawler.crawler - Crawling task done!\n"
     ]
    }
   ],
   "source": [
    "from icrawler.builtin import GoogleImageCrawler\n",
    "year = 2011\n",
    "while year < 2013:\n",
    "    make = 'lincoln'\n",
    "    model = 'towncar'\n",
    "    google_Crawler = GoogleImageCrawler(storage = {'root_dir': f'C:\\\\Users\\\\Chase\\\\OneDrive\\\\Documents\\\\fall-2023-project\\\\images\\{year}\\\\{make}\\\\{model}'})\n",
    "    google_Crawler.crawl(keyword = f'{year} {make} {model}', max_num = 3)\n",
    "    year += 1"
   ]
  }
 ],
 "metadata": {
  "kernelspec": {
   "display_name": "Python 3",
   "language": "python",
   "name": "python3"
  },
  "language_info": {
   "codemirror_mode": {
    "name": "ipython",
    "version": 3
   },
   "file_extension": ".py",
   "mimetype": "text/x-python",
   "name": "python",
   "nbconvert_exporter": "python",
   "pygments_lexer": "ipython3",
   "version": "3.9.12"
  }
 },
 "nbformat": 4,
 "nbformat_minor": 2
}
