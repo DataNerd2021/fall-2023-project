{
 "cells": [
  {
   "cell_type": "code",
   "execution_count": 5,
   "metadata": {},
   "outputs": [
    {
     "name": "stderr",
     "output_type": "stream",
     "text": [
      "2023-11-07 14:19:24,003 - INFO - icrawler.crawler - start crawling...\n",
      "2023-11-07 14:19:24,005 - INFO - icrawler.crawler - starting 1 feeder threads...\n",
      "2023-11-07 14:19:24,007 - INFO - feeder - thread feeder-001 exit\n",
      "2023-11-07 14:19:24,010 - INFO - icrawler.crawler - starting 1 parser threads...\n",
      "2023-11-07 14:19:24,021 - INFO - icrawler.crawler - starting 1 downloader threads...\n"
     ]
    }
   ],
   "source": [
    "from icrawler.builtin import GoogleImageCrawler\n",
    "year = 2011\n",
    "while year < 2024:\n",
    "    make = 'acura'\n",
    "    model = 'rdx'\n",
    "    google_Crawler = GoogleImageCrawler(storage = {'root_dir': f'C:\\\\Users\\\\Chase\\\\OneDrive\\\\Documents\\\\fall-2023-project\\\\images\\{year}\\\\{make}\\\\{model}'})\n",
    "    google_Crawler.crawl(keyword = f'{year} {make} {model}', max_num = 3)\n",
    "    year += 1"
   ]
  }
 ],
 "metadata": {
  "kernelspec": {
   "display_name": "Python 3",
   "language": "python",
   "name": "python3"
  },
  "language_info": {
   "codemirror_mode": {
    "name": "ipython",
    "version": 3
   },
   "file_extension": ".py",
   "mimetype": "text/x-python",
   "name": "python",
   "nbconvert_exporter": "python",
   "pygments_lexer": "ipython3",
   "version": "3.9.12"
  }
 },
 "nbformat": 4,
 "nbformat_minor": 2
}
